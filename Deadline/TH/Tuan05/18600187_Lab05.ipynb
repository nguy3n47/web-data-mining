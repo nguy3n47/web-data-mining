{
  "nbformat": 4,
  "nbformat_minor": 0,
  "metadata": {
    "kernelspec": {
      "display_name": "Python 3",
      "language": "python",
      "name": "python3"
    },
    "language_info": {
      "codemirror_mode": {
        "name": "ipython",
        "version": 3
      },
      "file_extension": ".py",
      "mimetype": "text/x-python",
      "name": "python",
      "nbconvert_exporter": "python",
      "pygments_lexer": "ipython3",
      "version": "3.7.6"
    },
    "colab": {
      "name": "18600187_Lab05.ipynb",
      "provenance": [],
      "collapsed_sections": [],
      "toc_visible": true
    }
  },
  "cells": [
    {
      "cell_type": "markdown",
      "metadata": {
        "id": "WumOYjQrx8PK"
      },
      "source": [
        "# Lab05: Clustering.\n",
        "\n",
        "- MSSV: 18600187\n",
        "- Họ và tên: Vũ Cao Nguyên"
      ]
    },
    {
      "cell_type": "markdown",
      "metadata": {
        "id": "v55VQPr2x8PP"
      },
      "source": [
        " \n",
        "## Yêu cầu bài tập\n",
        "\n",
        "**Cách làm bài**\n",
        "\n",
        "\n",
        "Bạn sẽ làm trực tiếp trên file notebook này; từ `TODO` cho biết những phần mà bạn cần phải làm.\n",
        "\n",
        "Bạn có thể thảo luận ý tưởng cũng như tham khảo các tài liệu, nhưng *code và bài làm phải là của bạn*. \n",
        "\n",
        "Nếu vi phạm thì sẽ bị 0 điểm cho bài tập này.\n",
        "\n",
        "**Cách nộp bài**\n",
        "\n",
        "Trước khi nộp bài, rerun lại notebook (`Kernel` -> `Restart & Run All`).\n",
        "\n",
        "Nộp file *\\<MSSV\\>.ipynb*\n",
        "\n",
        "**Nội dung bài tập**\n",
        "\n",
        "Sử dụng các thuật toán gom cụm để gom cụm các đường dẫn trong dữ liệu thu thập được."
      ]
    },
    {
      "cell_type": "markdown",
      "metadata": {
        "id": "MV4_aB9px8PQ"
      },
      "source": [
        "### Ví dụ cách phân cụm với dữ liệu đơn giản"
      ]
    },
    {
      "cell_type": "code",
      "metadata": {
        "id": "3XM9INzlx8PQ",
        "colab": {
          "base_uri": "https://localhost:8080/",
          "height": 450
        },
        "outputId": "a553b98c-5138-44c5-bbd4-e1a102fd371c"
      },
      "source": [
        "import numpy as np\n",
        "import matplotlib.pyplot as plt\n",
        "X=[[3,10],[2,5],[8,4],[5,8],[7,5],[6,4],[1,2],[2,9]]\n",
        "X=np.array(X)\n",
        "plt.figure(dpi=120)\n",
        "plt.plot(X[:, 0], X[:, 1], 'b^', markersize = 4, alpha = .8)"
      ],
      "execution_count": 1,
      "outputs": [
        {
          "output_type": "execute_result",
          "data": {
            "text/plain": [
              "[<matplotlib.lines.Line2D at 0x7f1f13c82990>]"
            ]
          },
          "metadata": {
            "tags": []
          },
          "execution_count": 1
        },
        {
          "output_type": "display_data",
          "data": {
            "image/png": "[encoded data removed]",
            "text/plain": [
              "<Figure size 720x480 with 1 Axes>"
            ]
          },
          "metadata": {
            "tags": [],
            "needs_background": "light"
          }
        }
      ]
    },
    {
      "cell_type": "code",
      "metadata": {
        "id": "3pkY1RCnx8PR"
      },
      "source": [
        "from sklearn.cluster import AgglomerativeClustering, KMeans\n",
        "import sklearn\n",
        "from scipy.cluster.hierarchy import dendrogram\n",
        "\n",
        "def plot_dendrogram(model, **kwargs):\n",
        "    counts = np.zeros(model.children_.shape[0])\n",
        "    n_samples = len(model.labels_)\n",
        "    for i, merge in enumerate(model.children_):\n",
        "        current_count = 0\n",
        "        for child_idx in merge:\n",
        "            if child_idx < n_samples:\n",
        "                current_count += 1\n",
        "            else:\n",
        "                current_count += counts[child_idx - n_samples]\n",
        "        counts[i] = current_count\n",
        "\n",
        "    linkage_matrix = np.column_stack([model.children_, model.distances_,\n",
        "                                      counts]).astype(float)\n",
        "\n",
        "    dendrogram(linkage_matrix, **kwargs)\n",
        "    \n",
        "def visualize(X, label):\n",
        "    K = np.amax(label) + 1\n",
        "    X0 = X[label == 0, :]\n",
        "    X1 = X[label == 1, :]\n",
        "    X2 = X[label == 2, :]\n",
        "    \n",
        "    plt.figure(dpi=120)\n",
        "    \n",
        "    plt.plot(X0[:, 0], X0[:, 1], 'b^', markersize = 4, alpha = .8)\n",
        "    plt.plot(X1[:, 0], X1[:, 1], 'go', markersize = 4, alpha = .8)\n",
        "    plt.plot(X2[:, 0], X2[:, 1], 'rs', markersize = 4, alpha = .8)\n",
        "\n",
        "    plt.axis('equal')\n",
        "    plt.plot()\n",
        "    plt.show()"
      ],
      "execution_count": 2,
      "outputs": []
    },
    {
      "cell_type": "code",
      "metadata": {
        "id": "SxAa0T8zx8PS"
      },
      "source": [
        "clustering1 = AgglomerativeClustering(distance_threshold=0, n_clusters=None,linkage='single').fit(X)\n",
        "clustering = AgglomerativeClustering(distance_threshold=0, n_clusters=None,linkage='complete').fit(X)"
      ],
      "execution_count": 3,
      "outputs": []
    },
    {
      "cell_type": "code",
      "metadata": {
        "id": "3o1D7Yvvx8PS",
        "colab": {
          "base_uri": "https://localhost:8080/",
          "height": 268
        },
        "outputId": "b32cc9d1-630c-4edd-d534-5448a399aa02"
      },
      "source": [
        "plot_dendrogram(clustering1, truncate_mode='level', p=3)\n",
        "plt.gcf()\n",
        "plt.savefig(\"singleLink.png\",dpi=200)"
      ],
      "execution_count": 4,
      "outputs": [
        {
          "output_type": "display_data",
          "data": {
            "image/png": "[encoded data removed]",
            "text/plain": [
              "<Figure size 432x288 with 1 Axes>"
            ]
          },
          "metadata": {
            "tags": [],
            "needs_background": "light"
          }
        }
      ]
    },
    {
      "cell_type": "code",
      "metadata": {
        "id": "FILhO2tRx8PS",
        "colab": {
          "base_uri": "https://localhost:8080/",
          "height": 268
        },
        "outputId": "f325ef8e-0cb7-450e-9118-82655967f937"
      },
      "source": [
        "plot_dendrogram(clustering, truncate_mode='level', p=3)\n",
        "plt.gcf()\n",
        "plt.savefig(\"completeLink.png\",dpi=200)"
      ],
      "execution_count": 5,
      "outputs": [
        {
          "output_type": "display_data",
          "data": {
            "image/png": "[encoded data removed]",
            "text/plain": [
              "<Figure size 432x288 with 1 Axes>"
            ]
          },
          "metadata": {
            "tags": [],
            "needs_background": "light"
          }
        }
      ]
    },
    {
      "cell_type": "code",
      "metadata": {
        "id": "hdskUgNxx8PT",
        "colab": {
          "base_uri": "https://localhost:8080/",
          "height": 433
        },
        "outputId": "61aaa017-ed8f-4eba-97a9-6ff0eb0f6cf1"
      },
      "source": [
        "model1=KMeans(n_clusters=3)\n",
        "model1.fit(X)\n",
        "pred=model1.predict(X)\n",
        "visualize(X,pred)"
      ],
      "execution_count": 6,
      "outputs": [
        {
          "output_type": "display_data",
          "data": {
            "image/png": "[encoded data removed]",
            "text/plain": [
              "<Figure size 720x480 with 1 Axes>"
            ]
          },
          "metadata": {
            "tags": [],
            "needs_background": "light"
          }
        }
      ]
    },
    {
      "cell_type": "markdown",
      "metadata": {
        "id": "wq42UQwAKXAo"
      },
      "source": [
        "### Phân cụm các đường dẫn dựa vào ma trận M ở lab trước:"
      ]
    },
    {
      "cell_type": "markdown",
      "metadata": {
        "id": "N1zVR2XuPw5M"
      },
      "source": [
        "Đọc ma trận M đã tính được ở lab trước (TF-IDF):"
      ]
    },
    {
      "cell_type": "code",
      "metadata": {
        "id": "fgsCUGHazwZ2",
        "colab": {
          "base_uri": "https://localhost:8080/"
        },
        "outputId": "ca1be230-c30d-4c42-ead9-5980b80bbbe1"
      },
      "source": [
        "from google.colab import drive\n",
        "drive.mount('/content/drive')"
      ],
      "execution_count": 7,
      "outputs": [
        {
          "output_type": "stream",
          "text": [
            "Drive already mounted at /content/drive; to attempt to forcibly remount, call drive.mount(\"/content/drive\", force_remount=True).\n"
          ],
          "name": "stdout"
        }
      ]
    },
    {
      "cell_type": "code",
      "metadata": {
        "id": "EzAlbuQfx8PT",
        "colab": {
          "base_uri": "https://localhost:8080/"
        },
        "outputId": "27751fc7-181a-449b-b10b-4e2e5338a468"
      },
      "source": [
        "# TODO\n",
        "M = np.loadtxt(\"/content/drive/MyDrive/Colab Notebooks/18600187.txt\")\n",
        "print(M)"
      ],
      "execution_count": 8,
      "outputs": [
        {
          "output_type": "stream",
          "text": [
            "[[0.         0.         0.         ... 0.         0.00081005 0.        ]\n",
            " [0.00047981 0.00047981 0.00047981 ... 0.00047981 0.         0.00047981]\n",
            " [0.00047981 0.00047981 0.00047981 ... 0.00047981 0.         0.00047981]]\n"
          ],
          "name": "stdout"
        }
      ]
    },
    {
      "cell_type": "markdown",
      "metadata": {
        "id": "Xt_nYnrtP10c"
      },
      "source": [
        "Coi mỗi dòng trong ma trận M là vector đặc trưng của đường dẫn tương ứng với dòng đó, hãy phân cụm các đường dẫn dựa vào sự tương đồng của các vector đặc trưng."
      ]
    },
    {
      "cell_type": "code",
      "metadata": {
        "id": "vNhYly57K9iR"
      },
      "source": [
        "# TODO\n",
        "clustering1 = AgglomerativeClustering(distance_threshold=0, n_clusters=None,linkage='single').fit(M)\n",
        "clustering = AgglomerativeClustering(distance_threshold=0, n_clusters=None,linkage='complete').fit(M)"
      ],
      "execution_count": 9,
      "outputs": []
    },
    {
      "cell_type": "markdown",
      "metadata": {
        "id": "n9X-siScP9t7"
      },
      "source": [
        "Visualize các cụm đã phân được.\n",
        "\n",
        "**Lưu ý**: do các vector đặc trưng của đường dẫn có nhiều hơn 2 chiều nên không cần visualize trên mặt phẳng Oxy. Nói cách khác, chỉ cần visualize dendrogram single và complete linkage."
      ]
    },
    {
      "cell_type": "code",
      "metadata": {
        "id": "p2UdIMmwQNHq",
        "colab": {
          "base_uri": "https://localhost:8080/",
          "height": 268
        },
        "outputId": "89a7fe10-85cb-4cc9-bc45-06bba8a1f02d"
      },
      "source": [
        "# TODO\n",
        "plot_dendrogram(clustering1, truncate_mode='level', p=10)\n",
        "plt.gcf()\n",
        "plt.savefig(\"singleLink.png\", dpi=200)"
      ],
      "execution_count": 10,
      "outputs": [
        {
          "output_type": "display_data",
          "data": {
            "image/png": "[encoded data removed]",
            "text/plain": [
              "<Figure size 432x288 with 1 Axes>"
            ]
          },
          "metadata": {
            "tags": [],
            "needs_background": "light"
          }
        }
      ]
    },
    {
      "cell_type": "code",
      "metadata": {
        "colab": {
          "base_uri": "https://localhost:8080/",
          "height": 268
        },
        "id": "ZQAGRXr01mCc",
        "outputId": "a4921c05-6eb0-4273-c1ae-4960a26654b7"
      },
      "source": [
        "plot_dendrogram(clustering, truncate_mode='level', p=10)\n",
        "plt.gcf()\n",
        "plt.savefig(\"completeLink.png\",dpi=200)"
      ],
      "execution_count": 11,
      "outputs": [
        {
          "output_type": "display_data",
          "data": {
            "image/png": "[encoded data removed]",
            "text/plain": [
              "<Figure size 432x288 with 1 Axes>"
            ]
          },
          "metadata": {
            "tags": [],
            "needs_background": "light"
          }
        }
      ]
    }
  ]
}